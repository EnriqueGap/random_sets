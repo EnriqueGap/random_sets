{
 "cells": [
  {
   "cell_type": "code",
   "execution_count": 18,
   "id": "3057379c",
   "metadata": {},
   "outputs": [],
   "source": [
    "import matplotlib.pyplot as plt\n",
    "import numpy as np\n",
    "import pandas as pd\n",
    "import timeit\n",
    "import time\n",
    "from english_words import english_words_set"
   ]
  },
  {
   "cell_type": "markdown",
   "id": "8132dff6",
   "metadata": {},
   "source": [
    "## Conjuntos de Palabras"
   ]
  },
  {
   "cell_type": "code",
   "execution_count": 25,
   "id": "fd7d15f5",
   "metadata": {},
   "outputs": [],
   "source": [
    "N=12\n",
    "array=[set()]*N\n",
    "i=0\n",
    "for x in english_words_set:\n",
    "    if i<N:\n",
    "        if i==0:\n",
    "            array[i]={x}\n",
    "        else:\n",
    "            array[i]=array[i-1].union({x})\n",
    "    i=i+1\n",
    "for i in np.arange(len(array)-1):\n",
    "    if not array[i].issubset(array[i+1]):\n",
    "        print(\"ERROR\")\n",
    "H=(100,100)\n",
    "vert=np.array(array).reshape(N,1)\n",
    "horz=np.array(array).reshape(1,N)"
   ]
  },
  {
   "cell_type": "code",
   "execution_count": 26,
   "id": "e7fac3a7",
   "metadata": {},
   "outputs": [
    {
     "data": {
      "text/plain": [
       "[{'Ptolemy'},\n",
       " {'Ptolemy', 'guardhouse'},\n",
       " {'Greta', 'Ptolemy', 'guardhouse'},\n",
       " {'Greta', 'Ptolemy', 'gizmo', 'guardhouse'},\n",
       " {'Greta', 'Ptolemy', 'gizmo', 'guardhouse', 'peninsular'},\n",
       " {'Greta', 'Ptolemy', 'gizmo', 'guardhouse', 'peninsular', 'sic'},\n",
       " {'Greta',\n",
       "  'Ptolemy',\n",
       "  'crustacean',\n",
       "  'gizmo',\n",
       "  'guardhouse',\n",
       "  'peninsular',\n",
       "  'sic'},\n",
       " {'Greta',\n",
       "  'Ptolemy',\n",
       "  'crustacean',\n",
       "  'gizmo',\n",
       "  'guardhouse',\n",
       "  'peninsular',\n",
       "  'sic',\n",
       "  'worst'},\n",
       " {'Greta',\n",
       "  'Ptolemy',\n",
       "  'assemble',\n",
       "  'crustacean',\n",
       "  'gizmo',\n",
       "  'guardhouse',\n",
       "  'peninsular',\n",
       "  'sic',\n",
       "  'worst'},\n",
       " {'Greta',\n",
       "  'Ptolemy',\n",
       "  'assemble',\n",
       "  'bead',\n",
       "  'crustacean',\n",
       "  'gizmo',\n",
       "  'guardhouse',\n",
       "  'peninsular',\n",
       "  'sic',\n",
       "  'worst'},\n",
       " {'Greta',\n",
       "  'Ptolemy',\n",
       "  'assemble',\n",
       "  'bead',\n",
       "  'bland',\n",
       "  'crustacean',\n",
       "  'gizmo',\n",
       "  'guardhouse',\n",
       "  'peninsular',\n",
       "  'sic',\n",
       "  'worst'},\n",
       " {'Greta',\n",
       "  'Ptolemy',\n",
       "  'assemble',\n",
       "  'bead',\n",
       "  'bland',\n",
       "  'charge',\n",
       "  'crustacean',\n",
       "  'gizmo',\n",
       "  'guardhouse',\n",
       "  'peninsular',\n",
       "  'sic',\n",
       "  'worst'}]"
      ]
     },
     "execution_count": 26,
     "metadata": {},
     "output_type": "execute_result"
    }
   ],
   "source": [
    "array"
   ]
  },
  {
   "cell_type": "code",
   "execution_count": 20,
   "id": "c6f0ae71",
   "metadata": {},
   "outputs": [
    {
     "data": {
      "text/plain": [
       "\"\\nvectorized metric function d(X,Y)\\nArguments\\nX :: set\\nY :: array sets\\n\\nreturns:\\narray float\\nthe distance between X and ith Y' entry \\n\""
      ]
     },
     "execution_count": 20,
     "metadata": {},
     "output_type": "execute_result"
    }
   ],
   "source": [
    "def kernel_u(w):\n",
    "    \"\"\"\n",
    "    univariate gaussian kernel\n",
    "    \n",
    "    Arguments:\n",
    "    w :: float\n",
    "    \n",
    "    returns:\n",
    "    float\n",
    "    N(0,1)(w) mean zero unit variance normal distribution on w\n",
    "    \"\"\"\n",
    "    return np.exp(-0.5*w**2)/np.sqrt(2*np.pi)\n",
    "def kernel_b(u,v):\n",
    "    \"\"\"\n",
    "    bivariate gaussian kernel\n",
    "    \n",
    "    Arguments:\n",
    "    u,v :: float\n",
    "    \n",
    "    returns:\n",
    "    float\n",
    "    N(0,0,1,1,0)(u,v) bivariate standard normal distribution on (u,v)\n",
    "    \"\"\"\n",
    "    return np.exp(-0.5*(u**2 + v**2))/np.sqrt(2*np.pi)\n",
    "def d(x,y):\n",
    "    \"\"\"\n",
    "    Metric function\n",
    "    \n",
    "    Arguments:\n",
    "    x,y sets\n",
    "    \n",
    "    returns:\n",
    "    float\n",
    "    the distance between x and y elements of a metric space\n",
    "    \"\"\"\n",
    "    return len(x.symmetric_difference(y))\n",
    "d_vec=np.vectorize(d)\n",
    "\"\"\"\n",
    "vectorized metric function d(X,Y)\n",
    "Arguments\n",
    "X :: set\n",
    "Y :: array sets\n",
    "\n",
    "returns:\n",
    "array float\n",
    "the distance between X and ith Y' entry \n",
    "\"\"\""
   ]
  },
  {
   "cell_type": "code",
   "execution_count": 21,
   "id": "e8453cc7",
   "metadata": {},
   "outputs": [],
   "source": [
    "def old_density_est(V,W):\n",
    "    n=len(array)\n",
    "    sum=0       # sum to calculate density estimator\n",
    "    for i in np.arange(0,n):\n",
    "        u = d(V,array[i])/H[0]  # compute the fisrt parameter to pass to bivariate kernel\n",
    "        v = d(W,array[i])/H[1]  # compute the second parameter to pass to bivariate kernel\n",
    "        sum+=kernel_b(u,v)     #sum the kernel estimations\n",
    "    return sum/(n*H[0]*H[1]) # return the mean of kernel estimations times det of bandwitdh matrix\n",
    "def density_est(V,W):\n",
    "    array1=kernel_u(d_vec(V,horz)/H[0])\n",
    "    array2=kernel_u(d_vec(vert,W)/H[1])\n",
    "    return np.dot(array1,array2)/(len(array)*H[0]*H[1]) # return the mean of kernel estimations times det of bmatrix\n",
    "###################################################################################################################\n",
    "###################################################################################################################\n",
    "###################################################################################################################\n",
    "def old_marginal_est(W):\n",
    "    sum=0       # sum to calculate density estimator\n",
    "    for V in array:\n",
    "        sum+=old_density_est(V,W) #sum the kernel estimations\n",
    "    return sum\n",
    "def marginal_est(W):\n",
    "    arr=density_est(vert,W) #sum the kernel estimations\n",
    "    return np.sum(arr)\n",
    "def conditional_prob(V,W):\n",
    "    return density_est(V,W)/marginal_est(W)"
   ]
  },
  {
   "cell_type": "code",
   "execution_count": 23,
   "id": "2cf9cedf",
   "metadata": {},
   "outputs": [
    {
     "data": {
      "text/plain": [
       "[<matplotlib.lines.Line2D at 0x7fad72b8a610>]"
      ]
     },
     "execution_count": 23,
     "metadata": {},
     "output_type": "execute_result"
    },
    {
     "data": {
      "image/png": "[encoded data removed]",
      "text/plain": [
       "<Figure size 432x288 with 1 Axes>"
      ]
     },
     "metadata": {
      "needs_background": "light"
     },
     "output_type": "display_data"
    }
   ],
   "source": [
    "plt.plot(conditional_prob(vert,array[500]))"
   ]
  },
  {
   "cell_type": "code",
   "execution_count": 15,
   "id": "b63b094f",
   "metadata": {},
   "outputs": [
    {
     "name": "stdout",
     "output_type": "stream",
     "text": [
      "7.07 ms ± 112 µs per loop (mean ± std. dev. of 7 runs, 100 loops each)\n",
      "5.81 ms ± 146 µs per loop (mean ± std. dev. of 7 runs, 100 loops each)\n",
      "4.73 s ± 78.3 ms per loop (mean ± std. dev. of 7 runs, 1 loop each)\n",
      "2.65 s ± 146 ms per loop (mean ± std. dev. of 7 runs, 1 loop each)\n",
      "==========================\n",
      "7.86 ms ± 396 µs per loop (mean ± std. dev. of 7 runs, 100 loops each)\n",
      "6.3 ms ± 115 µs per loop (mean ± std. dev. of 7 runs, 100 loops each)\n",
      "4.84 s ± 136 ms per loop (mean ± std. dev. of 7 runs, 1 loop each)\n",
      "2.56 s ± 26.9 ms per loop (mean ± std. dev. of 7 runs, 1 loop each)\n",
      "==========================\n",
      "7.16 ms ± 88.1 µs per loop (mean ± std. dev. of 7 runs, 100 loops each)\n",
      "6.05 ms ± 355 µs per loop (mean ± std. dev. of 7 runs, 100 loops each)\n",
      "4.87 s ± 35.7 ms per loop (mean ± std. dev. of 7 runs, 1 loop each)\n",
      "2.77 s ± 34.2 ms per loop (mean ± std. dev. of 7 runs, 1 loop each)\n",
      "==========================\n",
      "7.62 ms ± 208 µs per loop (mean ± std. dev. of 7 runs, 100 loops each)\n",
      "6.14 ms ± 116 µs per loop (mean ± std. dev. of 7 runs, 100 loops each)\n",
      "4.7 s ± 169 ms per loop (mean ± std. dev. of 7 runs, 1 loop each)\n",
      "2.62 s ± 35.8 ms per loop (mean ± std. dev. of 7 runs, 1 loop each)\n",
      "==========================\n",
      "7.57 ms ± 262 µs per loop (mean ± std. dev. of 7 runs, 100 loops each)\n",
      "6.18 ms ± 255 µs per loop (mean ± std. dev. of 7 runs, 100 loops each)\n",
      "5.03 s ± 86.5 ms per loop (mean ± std. dev. of 7 runs, 1 loop each)\n",
      "2.94 s ± 45.9 ms per loop (mean ± std. dev. of 7 runs, 1 loop each)\n",
      "==========================\n"
     ]
    }
   ],
   "source": [
    "for n in range(5):\n",
    "    %timeit old_density_est(array[n],array[287])\n",
    "    %timeit density_est(array[n],array[287])\n",
    "    %timeit old_marginal_est(array[n])\n",
    "    %timeit marginal_est(array[n])\n",
    "    print(\"==========================\")"
   ]
  },
  {
   "cell_type": "code",
   "execution_count": null,
   "id": "21aecaee",
   "metadata": {},
   "outputs": [],
   "source": [
    "oldD=np.zeros(600)\n",
    "newD=np.zeros(600)\n",
    "oldM=np.zeros(600)\n",
    "newM=np.zeros(600)\n",
    "value=array[287]\n",
    "for n in range(600):\n",
    "    a=array[n]\n",
    "    oldD[n]=timeit.Timer('old_density_est(array[n],array[287])','from __main__ import add, a, value').timeit()\n",
    "    #newD[i]=timeit.Timer(density_est(array[n],array[287]))\n",
    "    #oldM[i]=timeit.Timer(old_marginal_est(array[n],array[287]))\n",
    "    #newM[i]=timeit.Timer(marginal_est(array[n],array[287]))\n",
    "plt.plot(np.arange(1,601),oldD, color='black', linestyle='dotted',label='oldD')\n",
    "#plt.plot(np.arange(1,601),newD, color='red', linestyle='dashed', label='newD')\n",
    "#plt.plot(np.arange(1,601),oldM, color='green', linestyle='solid', label='oldM')\n",
    "#plt.plot(np.arange(1,601),newM, color='blue', linestyle='dashdot', label='newM')\n",
    "plt.show()"
   ]
  },
  {
   "cell_type": "code",
   "execution_count": null,
   "id": "3fdf646c",
   "metadata": {},
   "outputs": [],
   "source": [
    "import benchit\n",
    "funcs = [dot1, dot2, dot3, dot4, dot5, dot6]\n",
    "inputs = {n: gen(n, 100) for n in [100,1000,10000,100000,1000000]}\n",
    "\n",
    "t = benchit.timings(funcs, inputs, multivar=True, input_name='Number of operators')\n",
    "t.plot(logy=True, logx=True)"
   ]
  },
  {
   "cell_type": "markdown",
   "id": "5b49701f",
   "metadata": {},
   "source": [
    "## Plots"
   ]
  },
  {
   "cell_type": "code",
   "execution_count": 17,
   "id": "72eaf80b",
   "metadata": {},
   "outputs": [
    {
     "ename": "KeyboardInterrupt",
     "evalue": "",
     "output_type": "error",
     "traceback": [
      "\u001b[0;31m---------------------------------------------------------------------------\u001b[0m",
      "\u001b[0;31mKeyboardInterrupt\u001b[0m                         Traceback (most recent call last)",
      "Input \u001b[0;32mIn [17]\u001b[0m, in \u001b[0;36m<cell line: 2>\u001b[0;34m()\u001b[0m\n\u001b[1;32m      1\u001b[0m output\u001b[38;5;241m=\u001b[39mnp\u001b[38;5;241m.\u001b[39mzeros(\u001b[38;5;28mlen\u001b[39m(array))\n\u001b[1;32m      2\u001b[0m \u001b[38;5;28;01mfor\u001b[39;00m i \u001b[38;5;129;01min\u001b[39;00m np\u001b[38;5;241m.\u001b[39marange(\u001b[38;5;28mlen\u001b[39m(array)):\n\u001b[0;32m----> 3\u001b[0m     output[i]\u001b[38;5;241m=\u001b[39m\u001b[43mmarginal_est\u001b[49m\u001b[43m(\u001b[49m\u001b[43marray\u001b[49m\u001b[43m[\u001b[49m\u001b[43mi\u001b[49m\u001b[43m]\u001b[49m\u001b[43m)\u001b[49m\n\u001b[1;32m      4\u001b[0m plt\u001b[38;5;241m.\u001b[39mplot(labels, output)\n\u001b[1;32m      5\u001b[0m plt\u001b[38;5;241m.\u001b[39mtitle(\u001b[38;5;124m\"\u001b[39m\u001b[38;5;124mMarginal calculada con el nuevo estimador\u001b[39m\u001b[38;5;124m\"\u001b[39m)\n",
      "Input \u001b[0;32mIn [4]\u001b[0m, in \u001b[0;36mmarginal_est\u001b[0;34m(W)\u001b[0m\n\u001b[1;32m     21\u001b[0m \u001b[38;5;28;01mdef\u001b[39;00m \u001b[38;5;21mmarginal_est\u001b[39m(W):\n\u001b[0;32m---> 22\u001b[0m     arr\u001b[38;5;241m=\u001b[39m\u001b[43mdensity_est\u001b[49m\u001b[43m(\u001b[49m\u001b[43mvert\u001b[49m\u001b[43m,\u001b[49m\u001b[43mW\u001b[49m\u001b[43m)\u001b[49m \u001b[38;5;66;03m#sum the kernel estimations\u001b[39;00m\n\u001b[1;32m     23\u001b[0m     \u001b[38;5;28;01mreturn\u001b[39;00m np\u001b[38;5;241m.\u001b[39msum(arr)\n",
      "Input \u001b[0;32mIn [4]\u001b[0m, in \u001b[0;36mdensity_est\u001b[0;34m(V, W)\u001b[0m\n\u001b[1;32m      9\u001b[0m \u001b[38;5;28;01mdef\u001b[39;00m \u001b[38;5;21mdensity_est\u001b[39m(V,W):\n\u001b[0;32m---> 10\u001b[0m     array1\u001b[38;5;241m=\u001b[39mkernel_u(\u001b[43md_vec\u001b[49m\u001b[43m(\u001b[49m\u001b[43mV\u001b[49m\u001b[43m,\u001b[49m\u001b[43mhorz\u001b[49m\u001b[43m)\u001b[49m\u001b[38;5;241m/\u001b[39mH[\u001b[38;5;241m0\u001b[39m])\n\u001b[1;32m     11\u001b[0m     array2\u001b[38;5;241m=\u001b[39mkernel_u(d_vec(vert,W)\u001b[38;5;241m/\u001b[39mH[\u001b[38;5;241m1\u001b[39m])\n\u001b[1;32m     12\u001b[0m     \u001b[38;5;28;01mreturn\u001b[39;00m np\u001b[38;5;241m.\u001b[39mdot(array1,array2)\u001b[38;5;241m/\u001b[39m(\u001b[38;5;28mlen\u001b[39m(array)\u001b[38;5;241m*\u001b[39mH[\u001b[38;5;241m0\u001b[39m]\u001b[38;5;241m*\u001b[39mH[\u001b[38;5;241m1\u001b[39m])\n",
      "File \u001b[0;32m~/anaconda3/lib/python3.9/site-packages/numpy/lib/function_base.py:2328\u001b[0m, in \u001b[0;36mvectorize.__call__\u001b[0;34m(self, *args, **kwargs)\u001b[0m\n\u001b[1;32m   2325\u001b[0m     vargs \u001b[38;5;241m=\u001b[39m [args[_i] \u001b[38;5;28;01mfor\u001b[39;00m _i \u001b[38;5;129;01min\u001b[39;00m inds]\n\u001b[1;32m   2326\u001b[0m     vargs\u001b[38;5;241m.\u001b[39mextend([kwargs[_n] \u001b[38;5;28;01mfor\u001b[39;00m _n \u001b[38;5;129;01min\u001b[39;00m names])\n\u001b[0;32m-> 2328\u001b[0m \u001b[38;5;28;01mreturn\u001b[39;00m \u001b[38;5;28;43mself\u001b[39;49m\u001b[38;5;241;43m.\u001b[39;49m\u001b[43m_vectorize_call\u001b[49m\u001b[43m(\u001b[49m\u001b[43mfunc\u001b[49m\u001b[38;5;241;43m=\u001b[39;49m\u001b[43mfunc\u001b[49m\u001b[43m,\u001b[49m\u001b[43m \u001b[49m\u001b[43margs\u001b[49m\u001b[38;5;241;43m=\u001b[39;49m\u001b[43mvargs\u001b[49m\u001b[43m)\u001b[49m\n",
      "File \u001b[0;32m~/anaconda3/lib/python3.9/site-packages/numpy/lib/function_base.py:2411\u001b[0m, in \u001b[0;36mvectorize._vectorize_call\u001b[0;34m(self, func, args)\u001b[0m\n\u001b[1;32m   2408\u001b[0m \u001b[38;5;66;03m# Convert args to object arrays first\u001b[39;00m\n\u001b[1;32m   2409\u001b[0m inputs \u001b[38;5;241m=\u001b[39m [asanyarray(a, dtype\u001b[38;5;241m=\u001b[39m\u001b[38;5;28mobject\u001b[39m) \u001b[38;5;28;01mfor\u001b[39;00m a \u001b[38;5;129;01min\u001b[39;00m args]\n\u001b[0;32m-> 2411\u001b[0m outputs \u001b[38;5;241m=\u001b[39m \u001b[43mufunc\u001b[49m\u001b[43m(\u001b[49m\u001b[38;5;241;43m*\u001b[39;49m\u001b[43minputs\u001b[49m\u001b[43m)\u001b[49m\n\u001b[1;32m   2413\u001b[0m \u001b[38;5;28;01mif\u001b[39;00m ufunc\u001b[38;5;241m.\u001b[39mnout \u001b[38;5;241m==\u001b[39m \u001b[38;5;241m1\u001b[39m:\n\u001b[1;32m   2414\u001b[0m     res \u001b[38;5;241m=\u001b[39m asanyarray(outputs, dtype\u001b[38;5;241m=\u001b[39motypes[\u001b[38;5;241m0\u001b[39m])\n",
      "Input \u001b[0;32mIn [3]\u001b[0m, in \u001b[0;36md\u001b[0;34m(x, y)\u001b[0m\n\u001b[1;32m     25\u001b[0m \u001b[38;5;28;01mdef\u001b[39;00m \u001b[38;5;21md\u001b[39m(x,y):\n\u001b[1;32m     26\u001b[0m     \u001b[38;5;124;03m\"\"\"\u001b[39;00m\n\u001b[1;32m     27\u001b[0m \u001b[38;5;124;03m    Metric function\u001b[39;00m\n\u001b[1;32m     28\u001b[0m \u001b[38;5;124;03m    \u001b[39;00m\n\u001b[0;32m   (...)\u001b[0m\n\u001b[1;32m     34\u001b[0m \u001b[38;5;124;03m    the distance between x and y elements of a metric space\u001b[39;00m\n\u001b[1;32m     35\u001b[0m \u001b[38;5;124;03m    \"\"\"\u001b[39;00m\n\u001b[0;32m---> 36\u001b[0m     \u001b[38;5;28;01mreturn\u001b[39;00m \u001b[38;5;28mlen\u001b[39m(\u001b[43mx\u001b[49m\u001b[38;5;241;43m.\u001b[39;49m\u001b[43msymmetric_difference\u001b[49m\u001b[43m(\u001b[49m\u001b[43my\u001b[49m\u001b[43m)\u001b[49m)\n",
      "\u001b[0;31mKeyboardInterrupt\u001b[0m: "
     ]
    }
   ],
   "source": [
    "output=np.zeros(len(array))\n",
    "for i in np.arange(len(array)):\n",
    "    output[i]=marginal_est(array[i])\n",
    "plt.plot(labels, output)\n",
    "plt.title(\"Marginal calculada con el nuevo estimador\")"
   ]
  },
  {
   "cell_type": "code",
   "execution_count": null,
   "id": "ba9b6dfe",
   "metadata": {},
   "outputs": [],
   "source": [
    "heatmap=np.zeros((len(array),len(array)))\n",
    "bandwidth_matrix=[100,100]\n",
    "for i in np.arange(len(array)):\n",
    "    for j in np.arange(len(array)):\n",
    "        heatmap[i,j]=new_density_est(array[i],array[j])\n",
    "plt.imshow(heatmap, cmap='hot', interpolation='nearest')\n",
    "plt.title(\"Densidad calculada con el nuevo estimador\")\n",
    "\n",
    "\n",
    "    @property\n",
    "    def bandwidth(self):\n",
    "        return self._bandwidth\n",
    "    @bandwidth.setter\n",
    "    def bandwidth(self, value):\n",
    "        if not isinstance(value, float):\n",
    "            raise TypeError('RandomSets.bandwidth must be a float')\n",
    "        self._bandwidth = value"
   ]
  },
  {
   "cell_type": "code",
   "execution_count": null,
   "id": "cb53ca43",
   "metadata": {},
   "outputs": [],
   "source": [
    "def old_marginal_est(X):\n",
    "    \"\"\"\n",
    "    Marginal estimation\n",
    "    \n",
    "    Arguments:\n",
    "    set\n",
    "    X argument for estimation\n",
    "    \n",
    "    returns:\n",
    "    float\n",
    "    the marginal density estimation on X\n",
    "    \"\"\"\n",
    "    sum=0       # sum to calculate density estimator\n",
    "    for x in Xi:\n",
    "        sum+=old_density_est(x,X,array,array,H) #sum the kernel estimations\n",
    "    return sum\n",
    "def old_density_est(X,Y, Xi, Yi, H):\n",
    "    \"\"\"\n",
    "    density estimation\n",
    "    \n",
    "    Arguments:\n",
    "    sets\n",
    "    (X,Y) vector for estimation\n",
    "    np.array:\n",
    "    Xi, Yi histogram bins (bivariate case)\n",
    "    np.array:\n",
    "    H 'matrix' of bandwidths\n",
    "    \n",
    "    returns:\n",
    "    float\n",
    "    the total density estimation on X,Y\n",
    "    \"\"\"\n",
    "    n=len(Xi)\n",
    "    sum=0       # sum to calculate density estimator\n",
    "    for i in np.arange(0,n):\n",
    "        u = d(X,Xi[i])/H[0]  # compute the fisrt parameter to pass to bivariate kernel\n",
    "        v = d(Y,Yi[i])/H[1]  # compute the second parameter to pass to bivariate kernel\n",
    "        sum+=kernel_b(u,v)     #sum the kernel estimations\n",
    "    return sum/(n*H[0]*H[1]) # return the mean of kernel estimations times det of bandwitdh matrix\n",
    "def marginal_est(X):\n",
    "    \"\"\"\n",
    "    Marginal estimation\n",
    "    \n",
    "    Arguments:\n",
    "    set\n",
    "    X argument for estimation\n",
    "    np.array:\n",
    "    Xi array of histogram bins\n",
    "    float:\n",
    "    h bandwidth\n",
    "    \n",
    "    returns:\n",
    "    float\n",
    "    the marginal density estimation on X\n",
    "    \"\"\"\n",
    "    arg=kernel_u(d_vec(X,Xi)/h)\n",
    "    return np.sum(arg)/(len(Xi)*h)       # return the mean of kernel estimations times bandwitdh\n",
    "def density_est(X,Y, Xi, Yi, H):\n",
    "    \"\"\"\n",
    "    density estimation\n",
    "    \n",
    "    Arguments:\n",
    "    float\n",
    "    X,Y vector for estimation\n",
    "    list:\n",
    "    Xi, Yi histogram bins (bivariate case)\n",
    "    np.array:\n",
    "    H 'matrix' of bandwidths\n",
    "    \n",
    "    returns:\n",
    "    float\n",
    "    the total density estimation on X,Y\n",
    "    \"\"\"\n",
    "    \n",
    "    array1=kernel_u(d_vec(X,Xi)/H[0])\n",
    "    array2=kernel_u(d_vec(Y,Yi)/H[1])\n",
    "    return np.dot(array1,array2)/(len(Xi)*H[0]*H[1]) # return the mean of kernel estimations times det of bmatrix"
   ]
  }
 ],
 "metadata": {
  "kernelspec": {
   "display_name": "Python 3 (ipykernel)",
   "language": "python",
   "name": "python3"
  },
  "language_info": {
   "codemirror_mode": {
    "name": "ipython",
    "version": 3
   },
   "file_extension": ".py",
   "mimetype": "text/x-python",
   "name": "python",
   "nbconvert_exporter": "python",
   "pygments_lexer": "ipython3",
   "version": "3.9.12"
  }
 },
 "nbformat": 4,
 "nbformat_minor": 5
}
