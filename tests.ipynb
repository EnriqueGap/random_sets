{
 "cells": [
  {
   "cell_type": "code",
   "execution_count": 1,
   "id": "3057379c",
   "metadata": {},
   "outputs": [],
   "source": [
    "import matplotlib.pyplot as plt\n",
    "import numpy as np\n",
    "import pandas as pd\n",
    "import timeit\n",
    "import time\n",
    "from english_words import english_words_set\n",
    "import implementation as mylib"
   ]
  },
  {
   "cell_type": "markdown",
   "id": "e336b626",
   "metadata": {},
   "source": [
    "## Metodos (viejos y nuevos) para la estimación"
   ]
  },
  {
   "cell_type": "code",
   "execution_count": null,
   "id": "d1848a62",
   "metadata": {},
   "outputs": [],
   "source": [
    "def kernel_u(w):\n",
    "    \"\"\"\n",
    "    univariate gaussian kernel\n",
    "    \n",
    "    Arguments:\n",
    "    w :: float\n",
    "    \n",
    "    returns:\n",
    "    float\n",
    "    N(0,1)(w) mean zero unit variance normal distribution on w\n",
    "    \"\"\"\n",
    "    return np.exp(-0.5*w**2)/np.sqrt(2*np.pi)\n",
    "def kernel_b(u,v):\n",
    "    \"\"\"\n",
    "    bivariate gaussian kernel\n",
    "    \n",
    "    Arguments:\n",
    "    u,v :: float\n",
    "    \n",
    "    returns:\n",
    "    float\n",
    "    N(0,0,1,1,0)(u,v) bivariate standard normal distribution on (u,v)\n",
    "    \"\"\"\n",
    "    return np.exp(-0.5*(u**2 + v**2))/np.sqrt(2*np.pi)\n",
    "def d(x,y):\n",
    "    \"\"\"\n",
    "    Metric function\n",
    "    \n",
    "    Arguments:\n",
    "    x,y sets\n",
    "    \n",
    "    returns:\n",
    "    float\n",
    "    the distance between x and y elements of a metric space\n",
    "    \"\"\"\n",
    "    return len(x.symmetric_difference(y))\n",
    "d_vec=np.vectorize(d)\n",
    "\"\"\"\n",
    "vectorized metric function d(X,Y)\n",
    "Arguments\n",
    "X :: set\n",
    "Y :: array sets\n",
    "\n",
    "returns:\n",
    "array float\n",
    "the distance between X and ith Y' entry \n",
    "\"\"\"\n",
    "def old_marginal_est(X, Xi, h):\n",
    "    \"\"\"\n",
    "    Marginal estimation\n",
    "    \n",
    "    Arguments:\n",
    "    set\n",
    "    X argument for estimation\n",
    "    np.array:\n",
    "    Xi array of histogram bins\n",
    "    float:\n",
    "    h bandwidth\n",
    "    \n",
    "    returns:\n",
    "    float\n",
    "    the marginal density estimation on X\n",
    "    \"\"\"\n",
    "    sum=0       # sum to calculate density estimator\n",
    "    for x in Xi:\n",
    "        arg = d(x,X)/h     # compute the argument to pass to kernel\n",
    "        sum+=kernel_u(arg) #sum the kernel estimations\n",
    "    return sum/(len(Xi)*h)       # return the mean of kernel estimations times bandwitdh\n",
    "def old_density_est(X,Y, Xi, Yi, H):\n",
    "    \"\"\"\n",
    "    density estimation\n",
    "    \n",
    "    Arguments:\n",
    "    sets\n",
    "    (X,Y) vector for estimation\n",
    "    np.array:\n",
    "    Xi, Yi histogram bins (bivariate case)\n",
    "    np.array:\n",
    "    H 'matrix' of bandwidths\n",
    "    \n",
    "    returns:\n",
    "    float\n",
    "    the total density estimation on X,Y\n",
    "    \"\"\"\n",
    "    n=len(Xi)\n",
    "    sum=0       # sum to calculate density estimator\n",
    "    for i in np.arange(0,n):\n",
    "        u = d(X,Xi[i])/H[0]  # compute the fisrt parameter to pass to bivariate kernel\n",
    "        v = d(Y,Yi[i])/H[1]  # compute the second parameter to pass to bivariate kernel\n",
    "        sum+=kernel_b(u,v)     #sum the kernel estimations\n",
    "    return sum/(n*H[0]*H[1]) # return the mean of kernel estimations times det of bandwitdh matrix\n",
    "def marginal_est(X, Xi, h):\n",
    "    \"\"\"\n",
    "    Marginal estimation\n",
    "    \n",
    "    Arguments:\n",
    "    set\n",
    "    X argument for estimation\n",
    "    np.array:\n",
    "    Xi array of histogram bins\n",
    "    float:\n",
    "    h bandwidth\n",
    "    \n",
    "    returns:\n",
    "    float\n",
    "    the marginal density estimation on X\n",
    "    \"\"\"\n",
    "    arg=kernel_u(d_vec(X,Xi)/h)\n",
    "    return np.sum(arg)/(len(Xi)*h)       # return the mean of kernel estimations times bandwitdh\n",
    "def density_est(X,Y, Xi, Yi, H):\n",
    "    \"\"\"\n",
    "    density estimation\n",
    "    \n",
    "    Arguments:\n",
    "    float\n",
    "    X,Y vector for estimation\n",
    "    list:\n",
    "    Xi, Yi histogram bins (bivariate case)\n",
    "    np.array:\n",
    "    H 'matrix' of bandwidths\n",
    "    \n",
    "    returns:\n",
    "    float\n",
    "    the total density estimation on X,Y\n",
    "    \"\"\"\n",
    "    array1=kernel_u(d_vec(X,Xi)/H[0])\n",
    "    array2=kernel_u(d_vec(Y,Yi)/H[1])\n",
    "    return np.dot(array1,array2)/(len(Xi)*H[0]*H[1]) # return the mean of kernel estimations times det of bmatrix\n",
    "def conditional_prob(X,Y,Xi,Yi,H,h):\n",
    "    return density_est(X,Y,Xi,Yi,H)/marginal_est(X,Yi,h)"
   ]
  },
  {
   "cell_type": "markdown",
   "id": "467b3476",
   "metadata": {},
   "source": [
    "## Conjuntos de palabras"
   ]
  },
  {
   "cell_type": "code",
   "execution_count": 2,
   "id": "d7579462",
   "metadata": {},
   "outputs": [],
   "source": [
    "N=600\n",
    "array=[set()]*N\n",
    "i=0\n",
    "for x in english_words_set:\n",
    "    if i<N:\n",
    "        if i==0:\n",
    "            array[i]={x}\n",
    "        else:\n",
    "            array[i]=array[i-1].union({x})\n",
    "    i=i+1\n",
    "for i in np.arange(len(array)-1):\n",
    "    if not array[i].issubset(array[i+1]):\n",
    "        print(\"ERROR\")"
   ]
  },
  {
   "cell_type": "markdown",
   "id": "a298191e",
   "metadata": {},
   "source": [
    "## Primer comparación\n",
    "\n",
    "### Densidad Marginal"
   ]
  },
  {
   "cell_type": "code",
   "execution_count": null,
   "id": "72eaf80b",
   "metadata": {},
   "outputs": [],
   "source": [
    "output=np.zeros(len(array))\n",
    "for i in np.arange(len(array)):\n",
    "    output[i]=marginal_est(array[i], array, 100.8)\n",
    "plt.plot(labels, output)\n",
    "plt.title(\"Marginal calculada con el nuevo estimador\")"
   ]
  },
  {
   "cell_type": "markdown",
   "id": "dbb6775d",
   "metadata": {},
   "source": [
    "## Segunda Comparación\n",
    "### Estimador de densidad total"
   ]
  },
  {
   "cell_type": "code",
   "execution_count": null,
   "id": "ba9b6dfe",
   "metadata": {},
   "outputs": [],
   "source": [
    "heatmap=np.zeros((len(array),len(array)))\n",
    "bandwidth_matrix=[100,100]\n",
    "for i in np.arange(len(array)):\n",
    "    for j in np.arange(len(array)):\n",
    "        heatmap[i,j]=new_density_est(array[i],array[j], array, array, bandwidth_matrix)\n",
    "plt.imshow(heatmap, cmap='hot', interpolation='nearest')\n",
    "plt.title(\"Densidad calculada con el nuevo estimador\")\n",
    "\n",
    "\n",
    "    @property\n",
    "    def bandwidth(self):\n",
    "        return self._bandwidth\n",
    "    @bandwidth.setter\n",
    "    def bandwidth(self, value):\n",
    "        if not isinstance(value, float):\n",
    "            raise TypeError('RandomSets.bandwidth must be a float')\n",
    "        self._bandwidth = value"
   ]
  },
  {
   "cell_type": "code",
   "execution_count": 3,
   "id": "4aa7ca6d",
   "metadata": {},
   "outputs": [],
   "source": [
    "A=mylib.RandomSets(array)"
   ]
  },
  {
   "cell_type": "code",
   "execution_count": 4,
   "id": "874a9f90",
   "metadata": {},
   "outputs": [
    {
     "data": {
      "text/plain": [
       "1.0"
      ]
     },
     "execution_count": 4,
     "metadata": {},
     "output_type": "execute_result"
    }
   ],
   "source": [
    "A.bandwidth"
   ]
  },
  {
   "cell_type": "code",
   "execution_count": null,
   "id": "c7c043a6",
   "metadata": {},
   "outputs": [],
   "source": []
  }
 ],
 "metadata": {
  "kernelspec": {
   "display_name": "Python 3 (ipykernel)",
   "language": "python",
   "name": "python3"
  },
  "language_info": {
   "codemirror_mode": {
    "name": "ipython",
    "version": 3
   },
   "file_extension": ".py",
   "mimetype": "text/x-python",
   "name": "python",
   "nbconvert_exporter": "python",
   "pygments_lexer": "ipython3",
   "version": "3.9.12"
  }
 },
 "nbformat": 4,
 "nbformat_minor": 5
}
