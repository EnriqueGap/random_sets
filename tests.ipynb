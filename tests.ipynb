{
 "cells": [
  {
   "cell_type": "code",
   "execution_count": 1,
   "id": "3057379c",
   "metadata": {},
   "outputs": [],
   "source": [
    "import matplotlib.pyplot as plt\n",
    "import numpy as np\n",
    "import pandas as pd\n",
    "import timeit\n",
    "import time\n",
    "from english_words import english_words_set"
   ]
  },
  {
   "cell_type": "markdown",
   "id": "8132dff6",
   "metadata": {},
   "source": [
    "## Conjuntos de Palabras"
   ]
  },
  {
   "cell_type": "code",
   "execution_count": 2,
   "id": "fd7d15f5",
   "metadata": {},
   "outputs": [],
   "source": [
    "N=600\n",
    "array=[set()]*N\n",
    "i=0\n",
    "for x in english_words_set:\n",
    "    if i<N:\n",
    "        if i==0:\n",
    "            array[i]={x}\n",
    "        else:\n",
    "            array[i]=array[i-1].union({x})\n",
    "    i=i+1\n",
    "for i in np.arange(len(array)-1):\n",
    "    if not array[i].issubset(array[i+1]):\n",
    "        print(\"ERROR\")\n",
    "H=(1,1)\n",
    "vert=np.array(array).reshape(600,1)\n",
    "horz=np.array(array).reshape(1,600)"
   ]
  },
  {
   "cell_type": "code",
   "execution_count": 3,
   "id": "c6f0ae71",
   "metadata": {},
   "outputs": [
    {
     "data": {
      "text/plain": [
       "\"\\nvectorized metric function d(X,Y)\\nArguments\\nX :: set\\nY :: array sets\\n\\nreturns:\\narray float\\nthe distance between X and ith Y' entry \\n\""
      ]
     },
     "execution_count": 3,
     "metadata": {},
     "output_type": "execute_result"
    }
   ],
   "source": [
    "def kernel_u(w):\n",
    "    \"\"\"\n",
    "    univariate gaussian kernel\n",
    "    \n",
    "    Arguments:\n",
    "    w :: float\n",
    "    \n",
    "    returns:\n",
    "    float\n",
    "    N(0,1)(w) mean zero unit variance normal distribution on w\n",
    "    \"\"\"\n",
    "    return np.exp(-0.5*w**2)/np.sqrt(2*np.pi)\n",
    "def kernel_b(u,v):\n",
    "    \"\"\"\n",
    "    bivariate gaussian kernel\n",
    "    \n",
    "    Arguments:\n",
    "    u,v :: float\n",
    "    \n",
    "    returns:\n",
    "    float\n",
    "    N(0,0,1,1,0)(u,v) bivariate standard normal distribution on (u,v)\n",
    "    \"\"\"\n",
    "    return np.exp(-0.5*(u**2 + v**2))/np.sqrt(2*np.pi)\n",
    "def d(x,y):\n",
    "    \"\"\"\n",
    "    Metric function\n",
    "    \n",
    "    Arguments:\n",
    "    x,y sets\n",
    "    \n",
    "    returns:\n",
    "    float\n",
    "    the distance between x and y elements of a metric space\n",
    "    \"\"\"\n",
    "    return len(x.symmetric_difference(y))\n",
    "d_vec=np.vectorize(d)\n",
    "\"\"\"\n",
    "vectorized metric function d(X,Y)\n",
    "Arguments\n",
    "X :: set\n",
    "Y :: array sets\n",
    "\n",
    "returns:\n",
    "array float\n",
    "the distance between X and ith Y' entry \n",
    "\"\"\""
   ]
  },
  {
   "cell_type": "code",
   "execution_count": 4,
   "id": "e8453cc7",
   "metadata": {},
   "outputs": [],
   "source": [
    "def old_density_est(V,W):\n",
    "    n=len(array)\n",
    "    sum=0       # sum to calculate density estimator\n",
    "    for i in np.arange(0,n):\n",
    "        u = d(V,array[i])/H[0]  # compute the fisrt parameter to pass to bivariate kernel\n",
    "        v = d(W,array[i])/H[1]  # compute the second parameter to pass to bivariate kernel\n",
    "        sum+=kernel_b(u,v)     #sum the kernel estimations\n",
    "    return sum/(n*H[0]*H[1]) # return the mean of kernel estimations times det of bandwitdh matrix\n",
    "def density_est(V,W):\n",
    "    array1=kernel_u(d_vec(V,horz)/H[0])\n",
    "    array2=kernel_u(d_vec(vert,W)/H[1])\n",
    "    return np.dot(array1,array2)/(len(array)*H[0]*H[1]) # return the mean of kernel estimations times det of bmatrix\n",
    "###################################################################################################################\n",
    "###################################################################################################################\n",
    "###################################################################################################################\n",
    "def old_marginal_est(W):\n",
    "    sum=0       # sum to calculate density estimator\n",
    "    for V in array:\n",
    "        sum+=old_density_est(V,W) #sum the kernel estimations\n",
    "    return sum\n",
    "def marginal_est(W):\n",
    "    arr=density_est(vert,W) #sum the kernel estimations\n",
    "    return np.sum(arr)\n",
    "def conditional_prob(V,W):\n",
    "    return density_est(V,W)/marginal_est(W)"
   ]
  },
  {
   "cell_type": "code",
   "execution_count": 5,
   "id": "2cf9cedf",
   "metadata": {},
   "outputs": [
    {
     "data": {
      "text/plain": [
       "[<matplotlib.lines.Line2D at 0x7fad886938b0>]"
      ]
     },
     "execution_count": 5,
     "metadata": {},
     "output_type": "execute_result"
    },
    {
     "data": {
      "image/png": "[encoded data removed]",
      "text/plain": [
       "<Figure size 432x288 with 1 Axes>"
      ]
     },
     "metadata": {
      "needs_background": "light"
     },
     "output_type": "display_data"
    }
   ],
   "source": [
    "plt.plot(conditional_prob(vert,array[500]))"
   ]
  },
  {
   "cell_type": "code",
   "execution_count": 15,
   "id": "70190417",
   "metadata": {},
   "outputs": [
    {
     "name": "stdout",
     "output_type": "stream",
     "text": [
      "7.07 ms ± 112 µs per loop (mean ± std. dev. of 7 runs, 100 loops each)\n",
      "5.81 ms ± 146 µs per loop (mean ± std. dev. of 7 runs, 100 loops each)\n",
      "4.73 s ± 78.3 ms per loop (mean ± std. dev. of 7 runs, 1 loop each)\n",
      "2.65 s ± 146 ms per loop (mean ± std. dev. of 7 runs, 1 loop each)\n",
      "==========================\n",
      "7.86 ms ± 396 µs per loop (mean ± std. dev. of 7 runs, 100 loops each)\n",
      "6.3 ms ± 115 µs per loop (mean ± std. dev. of 7 runs, 100 loops each)\n",
      "4.84 s ± 136 ms per loop (mean ± std. dev. of 7 runs, 1 loop each)\n",
      "2.56 s ± 26.9 ms per loop (mean ± std. dev. of 7 runs, 1 loop each)\n",
      "==========================\n",
      "7.16 ms ± 88.1 µs per loop (mean ± std. dev. of 7 runs, 100 loops each)\n",
      "6.05 ms ± 355 µs per loop (mean ± std. dev. of 7 runs, 100 loops each)\n",
      "4.87 s ± 35.7 ms per loop (mean ± std. dev. of 7 runs, 1 loop each)\n",
      "2.77 s ± 34.2 ms per loop (mean ± std. dev. of 7 runs, 1 loop each)\n",
      "==========================\n",
      "7.62 ms ± 208 µs per loop (mean ± std. dev. of 7 runs, 100 loops each)\n",
      "6.14 ms ± 116 µs per loop (mean ± std. dev. of 7 runs, 100 loops each)\n",
      "4.7 s ± 169 ms per loop (mean ± std. dev. of 7 runs, 1 loop each)\n",
      "2.62 s ± 35.8 ms per loop (mean ± std. dev. of 7 runs, 1 loop each)\n",
      "==========================\n",
      "7.57 ms ± 262 µs per loop (mean ± std. dev. of 7 runs, 100 loops each)\n",
      "6.18 ms ± 255 µs per loop (mean ± std. dev. of 7 runs, 100 loops each)\n",
      "5.03 s ± 86.5 ms per loop (mean ± std. dev. of 7 runs, 1 loop each)\n",
      "2.94 s ± 45.9 ms per loop (mean ± std. dev. of 7 runs, 1 loop each)\n",
      "==========================\n"
     ]
    }
   ],
   "source": [
    "for n in range(5):\n",
    "    %timeit old_density_est(array[n],array[287])\n",
    "    %timeit density_est(array[n],array[287])\n",
    "    %timeit old_marginal_est(array[n])\n",
    "    %timeit marginal_est(array[n])\n",
    "    print(\"==========================\")"
   ]
  },
  {
   "cell_type": "code",
   "execution_count": null,
   "id": "f114badf",
   "metadata": {},
   "outputs": [],
   "source": [
    "oldD=np.zeros(600)\n",
    "newD=np.zeros(600)\n",
    "oldM=np.zeros(600)\n",
    "newM=np.zeros(600)\n",
    "value=array[287]\n",
    "for n in range(600):\n",
    "    a=array[n]\n",
    "    oldD[n]=timeit.Timer('old_density_est(array[n],array[287])','from __main__ import add, a, value').timeit()\n",
    "    #newD[i]=timeit.Timer(density_est(array[n],array[287]))\n",
    "    #oldM[i]=timeit.Timer(old_marginal_est(array[n],array[287]))\n",
    "    #newM[i]=timeit.Timer(marginal_est(array[n],array[287]))\n",
    "plt.plot(np.arange(1,601),oldD, color='black', linestyle='dotted',label='oldD')\n",
    "#plt.plot(np.arange(1,601),newD, color='red', linestyle='dashed', label='newD')\n",
    "#plt.plot(np.arange(1,601),oldM, color='green', linestyle='solid', label='oldM')\n",
    "#plt.plot(np.arange(1,601),newM, color='blue', linestyle='dashdot', label='newM')\n",
    "plt.show()"
   ]
  },
  {
   "cell_type": "code",
   "execution_count": null,
   "id": "d9a42809",
   "metadata": {},
   "outputs": [],
   "source": [
    "import benchit\n",
    "funcs = [dot1, dot2, dot3, dot4, dot5, dot6]\n",
    "inputs = {n: gen(n, 100) for n in [100,1000,10000,100000,1000000]}\n",
    "\n",
    "t = benchit.timings(funcs, inputs, multivar=True, input_name='Number of operators')\n",
    "t.plot(logy=True, logx=True)"
   ]
  },
  {
   "cell_type": "markdown",
   "id": "5b49701f",
   "metadata": {},
   "source": [
    "## Plots"
   ]
  },
  {
   "cell_type": "code",
   "execution_count": null,
   "id": "72eaf80b",
   "metadata": {},
   "outputs": [],
   "source": [
    "output=np.zeros(len(array))\n",
    "for i in np.arange(len(array)):\n",
    "    output[i]=marginal_est(array[i], array, 100.8)\n",
    "plt.plot(labels, output)\n",
    "plt.title(\"Marginal calculada con el nuevo estimador\")"
   ]
  },
  {
   "cell_type": "code",
   "execution_count": null,
   "id": "ba9b6dfe",
   "metadata": {},
   "outputs": [],
   "source": [
    "heatmap=np.zeros((len(array),len(array)))\n",
    "bandwidth_matrix=[100,100]\n",
    "for i in np.arange(len(array)):\n",
    "    for j in np.arange(len(array)):\n",
    "        heatmap[i,j]=new_density_est(array[i],array[j], array, array, bandwidth_matrix)\n",
    "plt.imshow(heatmap, cmap='hot', interpolation='nearest')\n",
    "plt.title(\"Densidad calculada con el nuevo estimador\")\n",
    "\n",
    "\n",
    "    @property\n",
    "    def bandwidth(self):\n",
    "        return self._bandwidth\n",
    "    @bandwidth.setter\n",
    "    def bandwidth(self, value):\n",
    "        if not isinstance(value, float):\n",
    "            raise TypeError('RandomSets.bandwidth must be a float')\n",
    "        self._bandwidth = value"
   ]
  },
  {
   "cell_type": "code",
   "execution_count": null,
   "id": "cb53ca43",
   "metadata": {},
   "outputs": [],
   "source": [
    "def old_marginal_est(X):\n",
    "    \"\"\"\n",
    "    Marginal estimation\n",
    "    \n",
    "    Arguments:\n",
    "    set\n",
    "    X argument for estimation\n",
    "    \n",
    "    returns:\n",
    "    float\n",
    "    the marginal density estimation on X\n",
    "    \"\"\"\n",
    "    sum=0       # sum to calculate density estimator\n",
    "    for x in Xi:\n",
    "        sum+=old_density_est(x,X,array,array,H) #sum the kernel estimations\n",
    "    return sum\n",
    "def old_density_est(X,Y, Xi, Yi, H):\n",
    "    \"\"\"\n",
    "    density estimation\n",
    "    \n",
    "    Arguments:\n",
    "    sets\n",
    "    (X,Y) vector for estimation\n",
    "    np.array:\n",
    "    Xi, Yi histogram bins (bivariate case)\n",
    "    np.array:\n",
    "    H 'matrix' of bandwidths\n",
    "    \n",
    "    returns:\n",
    "    float\n",
    "    the total density estimation on X,Y\n",
    "    \"\"\"\n",
    "    n=len(Xi)\n",
    "    sum=0       # sum to calculate density estimator\n",
    "    for i in np.arange(0,n):\n",
    "        u = d(X,Xi[i])/H[0]  # compute the fisrt parameter to pass to bivariate kernel\n",
    "        v = d(Y,Yi[i])/H[1]  # compute the second parameter to pass to bivariate kernel\n",
    "        sum+=kernel_b(u,v)     #sum the kernel estimations\n",
    "    return sum/(n*H[0]*H[1]) # return the mean of kernel estimations times det of bandwitdh matrix\n",
    "def marginal_est(X):\n",
    "    \"\"\"\n",
    "    Marginal estimation\n",
    "    \n",
    "    Arguments:\n",
    "    set\n",
    "    X argument for estimation\n",
    "    np.array:\n",
    "    Xi array of histogram bins\n",
    "    float:\n",
    "    h bandwidth\n",
    "    \n",
    "    returns:\n",
    "    float\n",
    "    the marginal density estimation on X\n",
    "    \"\"\"\n",
    "    arg=kernel_u(d_vec(X,Xi)/h)\n",
    "    return np.sum(arg)/(len(Xi)*h)       # return the mean of kernel estimations times bandwitdh\n",
    "def density_est(X,Y, Xi, Yi, H):\n",
    "    \"\"\"\n",
    "    density estimation\n",
    "    \n",
    "    Arguments:\n",
    "    float\n",
    "    X,Y vector for estimation\n",
    "    list:\n",
    "    Xi, Yi histogram bins (bivariate case)\n",
    "    np.array:\n",
    "    H 'matrix' of bandwidths\n",
    "    \n",
    "    returns:\n",
    "    float\n",
    "    the total density estimation on X,Y\n",
    "    \"\"\"\n",
    "    \n",
    "    array1=kernel_u(d_vec(X,Xi)/H[0])\n",
    "    array2=kernel_u(d_vec(Y,Yi)/H[1])\n",
    "    return np.dot(array1,array2)/(len(Xi)*H[0]*H[1]) # return the mean of kernel estimations times det of bmatrix"
   ]
  }
 ],
 "metadata": {
  "kernelspec": {
   "display_name": "Python 3 (ipykernel)",
   "language": "python",
   "name": "python3"
  },
  "language_info": {
   "codemirror_mode": {
    "name": "ipython",
    "version": 3
   },
   "file_extension": ".py",
   "mimetype": "text/x-python",
   "name": "python",
   "nbconvert_exporter": "python",
   "pygments_lexer": "ipython3",
   "version": "3.9.12"
  }
 },
 "nbformat": 4,
 "nbformat_minor": 5
}
