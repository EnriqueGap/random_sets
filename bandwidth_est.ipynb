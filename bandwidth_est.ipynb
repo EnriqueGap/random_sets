{
 "cells": [
  {
   "cell_type": "code",
   "execution_count": 1,
   "id": "08d9f230",
   "metadata": {},
   "outputs": [],
   "source": [
    "import matplotlib.pyplot as plt\n",
    "import numpy as np\n",
    "from english_words import english_words_set\n",
    "import implementation as mylib\n",
    "#import panel as pn\n",
    "#pn.extension()\n",
    "from ipywidgets import interact, interactive, fixed, interact_manual\n",
    "import ipywidgets as widgets"
   ]
  },
  {
   "cell_type": "code",
   "execution_count": 2,
   "id": "e613d62c-c691-4b1e-b27b-d1ca816b181c",
   "metadata": {},
   "outputs": [],
   "source": [
    "N=100\n",
    "array=[set()]*N\n",
    "i=0\n",
    "for x in english_words_set:\n",
    "    if i<N:\n",
    "        if i==0:\n",
    "            array[i]={x}\n",
    "        else:\n",
    "            array[i]=array[i-1].union({x})\n",
    "    i=i+1\n",
    "for i in np.arange(len(array)-1):\n",
    "    if not array[i].issubset(array[i+1]):\n",
    "        print(\"ERROR\")\n",
    "random_sets=mylib.RandomSets(array)"
   ]
  },
  {
   "cell_type": "code",
   "execution_count": 3,
   "id": "47338c13",
   "metadata": {},
   "outputs": [],
   "source": [
    "def f(x,y):\n",
    "    random_sets.bandwidth_matrix[0]=x\n",
    "    random_sets.bandwidth_matrix[1]=y\n",
    "    random_sets.plot_density()\n",
    "def g(x,y):\n",
    "    random_sets.bandwidth_matrix[0]=x\n",
    "    random_sets.bandwidth_matrix[1]=y\n",
    "    random_sets.plot_dist(array[12])    "
   ]
  },
  {
   "cell_type": "code",
   "execution_count": 4,
   "id": "87fef189",
   "metadata": {},
   "outputs": [
    {
     "data": {
      "application/vnd.jupyter.widget-view+json": {
       "model_id": "d7e937f2693a4f9d989af65a6cfab60e",
       "version_major": 2,
       "version_minor": 0
      },
      "text/plain": [
       "interactive(children=(IntSlider(value=10, description='x', min=1), IntSlider(value=10, description='y', min=1)…"
      ]
     },
     "metadata": {},
     "output_type": "display_data"
    },
    {
     "data": {
      "text/plain": [
       "<function __main__.f(x, y)>"
      ]
     },
     "execution_count": 4,
     "metadata": {},
     "output_type": "execute_result"
    }
   ],
   "source": [
    "interact(f, x=widgets.IntSlider(min=1, max=100, step=1, value=10), y=widgets.IntSlider(min=1, max=100, step=1, value=10))"
   ]
  },
  {
   "cell_type": "code",
   "execution_count": 5,
   "id": "c1e0142f",
   "metadata": {},
   "outputs": [
    {
     "data": {
      "application/vnd.jupyter.widget-view+json": {
       "model_id": "ef6766375b4d4d199a65fb447a88faf6",
       "version_major": 2,
       "version_minor": 0
      },
      "text/plain": [
       "interactive(children=(IntSlider(value=10, description='x', min=1), IntSlider(value=10, description='y', min=1)…"
      ]
     },
     "metadata": {},
     "output_type": "display_data"
    },
    {
     "data": {
      "text/plain": [
       "<function __main__.g(x, y)>"
      ]
     },
     "execution_count": 5,
     "metadata": {},
     "output_type": "execute_result"
    }
   ],
   "source": [
    "interact(g, x=widgets.IntSlider(min=1, max=100, step=1, value=10), y=widgets.IntSlider(min=1, max=100, step=1, value=10))"
   ]
  },
  {
   "cell_type": "code",
   "execution_count": null,
   "id": "986da0ac",
   "metadata": {},
   "outputs": [],
   "source": []
  }
 ],
 "metadata": {
  "kernelspec": {
   "display_name": "Python 3.9.12 ('base')",
   "language": "python",
   "name": "python3"
  },
  "language_info": {
   "codemirror_mode": {
    "name": "ipython",
    "version": 3
   },
   "file_extension": ".py",
   "mimetype": "text/x-python",
   "name": "python",
   "nbconvert_exporter": "python",
   "pygments_lexer": "ipython3",
   "version": "3.9.12"
  },
  "vscode": {
   "interpreter": {
    "hash": "33ba981f45df271ef2947761f0b739a390df0f363cc4477a01d79ff1edceb140"
   }
  }
 },
 "nbformat": 4,
 "nbformat_minor": 5
}
